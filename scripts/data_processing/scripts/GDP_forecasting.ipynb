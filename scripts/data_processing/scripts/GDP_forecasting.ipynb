{
  "nbformat": 4,
  "nbformat_minor": 0,
  "metadata": {
    "colab": {
      "provenance": []
    },
    "kernelspec": {
      "name": "python3",
      "display_name": "Python 3"
    },
    "language_info": {
      "name": "python"
    }
  },
  "cells": [
    {
      "cell_type": "code",
      "source": [
        "import pandas as pd\n",
        "from sklearn.model_selection import train_test_split\n",
        "from sklearn.linear_model import LinearRegression\n",
        "from sklearn.ensemble import RandomForestRegressor\n",
        "from sklearn.svm import SVR\n",
        "from sklearn.metrics import mean_squared_error\n",
        "import numpy as np\n",
        "\n",
        "# Install openpyxl if it's not already installed\n",
        "!pip install openpyxl"
      ],
      "metadata": {
        "colab": {
          "base_uri": "https://localhost:8080/"
        },
        "id": "sFsxWY7WAW2a",
        "outputId": "d32d28d3-72e7-4a6d-838c-5999b86efb6b"
      },
      "execution_count": null,
      "outputs": [
        {
          "output_type": "stream",
          "name": "stdout",
          "text": [
            "Requirement already satisfied: openpyxl in /usr/local/lib/python3.11/dist-packages (3.1.5)\n",
            "Requirement already satisfied: et-xmlfile in /usr/local/lib/python3.11/dist-packages (from openpyxl) (2.0.0)\n"
          ]
        }
      ]
    },
    {
      "cell_type": "code",
      "source": [
        "# Read the Excel file and specify the sheet names\n",
        "try:\n",
        "    df_train = pd.read_excel(\"gdp_base.xlsx\", sheet_name=\"df_current_train\")\n",
        "    df_test = pd.read_excel(\"gdp_base.xlsx\", sheet_name=\"df_current_test\")\n",
        "except FileNotFoundError:\n",
        "    print(\"Error: gdp_base.xlsx not found. Please make sure the file is in the same directory as your notebook or provide the correct path.\")\n",
        "    df_train, df_test = None, None\n",
        "except Exception as e:\n",
        "    print(f\"An unexpected error occurred: {e}\")\n",
        "    df_train, df_test = None, None"
      ],
      "metadata": {
        "id": "Rexy9I6u8IwA"
      },
      "execution_count": null,
      "outputs": []
    },
    {
      "cell_type": "code",
      "source": [
        "# Ensure 'Date' is in datetime format\n",
        "df_train['date'] = pd.to_datetime(df_train['date'])\n",
        "df_test['date'] = pd.to_datetime(df_test['date'])\n",
        "\n",
        "# Drop rows where 'y' is NaN\n",
        "df_train = df_train.dropna(subset=['y'])\n",
        "df_test = df_test.dropna(subset=['y'])\n",
        "\n",
        "# Drop features (columns) with NaN values, excluding 'y'\n",
        "df_train = df_train.loc[:, df_train.columns.isin(['date', 'y']) | df_train.notna().all()]\n",
        "df_test = df_test.loc[:, df_test.columns.isin(['date', 'y']) | df_test.notna().all()]\n",
        "\n",
        "# Feature Engineering (using other columns as features)\n",
        "features = [col for col in df_train.columns if col not in ['date', 'y']]  # all columns that are not date or y will be used as a feature\n",
        "X_train = df_train[features]\n",
        "y_train = df_train['y']\n",
        "X_test = df_test[features]\n",
        "y_test = df_test['y']\n",
        "\n",
        "# Splitting the training data into train and validation sets\n",
        "X_train, X_val, y_train, y_val = train_test_split(X_train, y_train, test_size=0.2, random_state=42)\n",
        "\n",
        "# Define models to test\n",
        "models = {\n",
        "    \"Linear Regression\": LinearRegression(),\n",
        "    \"Random Forest\": RandomForestRegressor(n_estimators=100, random_state=42),\n",
        "    \"Support Vector Machine\": SVR()\n",
        "}\n",
        "\n",
        "# Evaluate each model\n",
        "for name, model in models.items():\n",
        "    print(f\"Evaluating {name}...\")\n",
        "\n",
        "    # Train the model\n",
        "    model.fit(X_train, y_train)\n",
        "\n",
        "    # Predict on validation set\n",
        "    y_val_pred = model.predict(X_val)\n",
        "\n",
        "    # Evaluate on validation set\n",
        "    val_mse = mean_squared_error(y_val, y_val_pred)\n",
        "    val_rmse = np.sqrt(val_mse)\n",
        "    print(f\"{name} Validation Mean Squared Error: {val_mse}\")\n",
        "    print(f\"{name} Validation Root Mean Squared Error: {val_rmse}\")\n",
        "\n",
        "    # Predict on test set\n",
        "    y_test_pred = model.predict(X_test)\n",
        "\n",
        "    # Evaluate on test set\n",
        "    test_mse = mean_squared_error(y_test, y_test_pred)\n",
        "    test_rmse = np.sqrt(test_mse)\n",
        "    print(f\"{name} Test Mean Squared Error: {test_mse}\")\n",
        "    print(f\"{name} Test Root Mean Squared Error: {test_rmse}\\n\")\n"
      ],
      "metadata": {
        "colab": {
          "base_uri": "https://localhost:8080/"
        },
        "id": "BijAiHMZ7XW2",
        "outputId": "9f4e2ae0-8d9a-4f08-ccd0-524378654a26"
      },
      "execution_count": null,
      "outputs": [
        {
          "output_type": "stream",
          "name": "stdout",
          "text": [
            "Evaluating Linear Regression...\n",
            "Linear Regression Validation Mean Squared Error: 8.356758612351275\n",
            "Linear Regression Validation Root Mean Squared Error: 2.8908058759368944\n",
            "Linear Regression Test Mean Squared Error: 2.2347821647460187\n",
            "Linear Regression Test Root Mean Squared Error: 1.4949187819898506\n",
            "\n",
            "Evaluating Random Forest...\n",
            "Random Forest Validation Mean Squared Error: 14.353429100000005\n",
            "Random Forest Validation Root Mean Squared Error: 3.7885919680007776\n",
            "Random Forest Test Mean Squared Error: 0.12771942857142857\n",
            "Random Forest Test Root Mean Squared Error: 0.357378550799329\n",
            "\n",
            "Evaluating Support Vector Machine...\n",
            "Support Vector Machine Validation Mean Squared Error: 11.194374701823062\n",
            "Support Vector Machine Validation Root Mean Squared Error: 3.345799560915606\n",
            "Support Vector Machine Test Mean Squared Error: 0.11185510614493374\n",
            "Support Vector Machine Test Root Mean Squared Error: 0.33444746395350905\n",
            "\n"
          ]
        }
      ]
    }
  ]
}