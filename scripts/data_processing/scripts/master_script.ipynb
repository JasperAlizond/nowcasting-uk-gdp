{
 "cells": [
  {
   "cell_type": "markdown",
   "metadata": {},
   "source": [
    "## Set up"
   ]
  },
  {
   "cell_type": "code",
   "execution_count": 15,
   "metadata": {},
   "outputs": [],
   "source": [
    "import pandas as pd\n",
    "import os\n",
    "import numpy as np\n",
    "import shap\n",
    "import matplotlib.pyplot as plt\n",
    "\n",
    "from sklearn.preprocessing import StandardScaler\n",
    "from sklearn.ensemble import RandomForestRegressor\n",
    "from xgboost import XGBRegressor\n",
    "from sklearn.linear_model import LinearRegression\n",
    "from sklearn.svm import SVR"
   ]
  },
  {
   "cell_type": "code",
   "execution_count": 2,
   "metadata": {},
   "outputs": [
    {
     "data": {
      "text/plain": [
       "'c:\\\\Users\\\\juanb\\\\Documents\\\\HM_Treasury_Hackathon\\\\Nowcasting-GDP-UK\\\\data_processing\\\\raw_data'"
      ]
     },
     "execution_count": 2,
     "metadata": {},
     "output_type": "execute_result"
    }
   ],
   "source": [
    "# Define directories\n",
    "def find_directory_upwards(dir_name):\n",
    "    \"\"\"\n",
    "    Find the absolute path to a directory with the given name by searching upwards\n",
    "    from the current notebook's directory.\n",
    "\n",
    "    Parameters:\n",
    "    dir_name (str): The name of the directory to find.\n",
    "\n",
    "    Returns:\n",
    "    str: The absolute path to the directory if found, otherwise None.\n",
    "    \"\"\"\n",
    "    # Get the current notebook's directory\n",
    "    current_dir = os.getcwd()\n",
    "    \n",
    "    while True:\n",
    "        # Check if the directory exists in the current directory\n",
    "        potential_path = os.path.join(current_dir, dir_name)\n",
    "        if os.path.isdir(potential_path):\n",
    "            return potential_path\n",
    "        \n",
    "        # Move to the parent directory\n",
    "        parent_dir = os.path.abspath(os.path.join(current_dir, os.pardir))\n",
    "        \n",
    "        # If the current directory is the root directory, stop searching\n",
    "        if current_dir == parent_dir:\n",
    "            break\n",
    "        \n",
    "        current_dir = parent_dir\n",
    "    \n",
    "    # If the directory is not found, return None\n",
    "    return None\n",
    "\n",
    "raw_data_dir = find_directory_upwards('raw_data')\n",
    "outputs_dir = find_directory_upwards('outputs')\n",
    "raw_data_dir"
   ]
  },
  {
   "cell_type": "markdown",
   "metadata": {},
   "source": [
    "## Load data"
   ]
  },
  {
   "cell_type": "code",
   "execution_count": 3,
   "metadata": {},
   "outputs": [
    {
     "name": "stdout",
     "output_type": "stream",
     "text": [
      "(97, 124)\n",
      "Index(['date', 'data_type', 'y', 'y_3', 'cpi_1', 'cpi_2', 'cpi_3', 'br_1',\n",
      "       'br_2', 'br_3',\n",
      "       ...\n",
      "       'br_pc_2', 'unemply_pc_2', 'awe_pc_2', 'GBP/US_pc_2', 'GBP/EU_pc_2',\n",
      "       'oil_pl_pc_2', 'us_gdp_pc_1', 'eu_gdp_pc_1', 'sr_pc_1', 'pop_pc_1'],\n",
      "      dtype='object', length=124)\n"
     ]
    },
    {
     "data": {
      "text/html": [
       "<div>\n",
       "<style scoped>\n",
       "    .dataframe tbody tr th:only-of-type {\n",
       "        vertical-align: middle;\n",
       "    }\n",
       "\n",
       "    .dataframe tbody tr th {\n",
       "        vertical-align: top;\n",
       "    }\n",
       "\n",
       "    .dataframe thead th {\n",
       "        text-align: right;\n",
       "    }\n",
       "</style>\n",
       "<table border=\"1\" class=\"dataframe\">\n",
       "  <thead>\n",
       "    <tr style=\"text-align: right;\">\n",
       "      <th></th>\n",
       "      <th>date</th>\n",
       "      <th>data_type</th>\n",
       "      <th>y</th>\n",
       "      <th>y_3</th>\n",
       "      <th>cpi_1</th>\n",
       "      <th>cpi_2</th>\n",
       "      <th>cpi_3</th>\n",
       "      <th>br_1</th>\n",
       "      <th>br_2</th>\n",
       "      <th>br_3</th>\n",
       "      <th>...</th>\n",
       "      <th>br_pc_2</th>\n",
       "      <th>unemply_pc_2</th>\n",
       "      <th>awe_pc_2</th>\n",
       "      <th>GBP/US_pc_2</th>\n",
       "      <th>GBP/EU_pc_2</th>\n",
       "      <th>oil_pl_pc_2</th>\n",
       "      <th>us_gdp_pc_1</th>\n",
       "      <th>eu_gdp_pc_1</th>\n",
       "      <th>sr_pc_1</th>\n",
       "      <th>pop_pc_1</th>\n",
       "    </tr>\n",
       "  </thead>\n",
       "  <tbody>\n",
       "    <tr>\n",
       "      <th>0</th>\n",
       "      <td>2000-09-01</td>\n",
       "      <td>train</td>\n",
       "      <td>0.2</td>\n",
       "      <td>0.5</td>\n",
       "      <td>72.508</td>\n",
       "      <td>72.876</td>\n",
       "      <td>72.771</td>\n",
       "      <td>6.0</td>\n",
       "      <td>6.0</td>\n",
       "      <td>6.0</td>\n",
       "      <td>...</td>\n",
       "      <td>0.102837</td>\n",
       "      <td>0.102837</td>\n",
       "      <td>0.102837</td>\n",
       "      <td>0.102837</td>\n",
       "      <td>0.102837</td>\n",
       "      <td>0.102837</td>\n",
       "      <td>0.000850</td>\n",
       "      <td>0.000850</td>\n",
       "      <td>0.000850</td>\n",
       "      <td>0.000850</td>\n",
       "    </tr>\n",
       "    <tr>\n",
       "      <th>1</th>\n",
       "      <td>2000-12-01</td>\n",
       "      <td>train</td>\n",
       "      <td>0.1</td>\n",
       "      <td>0.2</td>\n",
       "      <td>73.050</td>\n",
       "      <td>73.083</td>\n",
       "      <td>72.526</td>\n",
       "      <td>6.0</td>\n",
       "      <td>6.0</td>\n",
       "      <td>6.0</td>\n",
       "      <td>...</td>\n",
       "      <td>0.129716</td>\n",
       "      <td>0.129716</td>\n",
       "      <td>0.129716</td>\n",
       "      <td>0.129716</td>\n",
       "      <td>0.129716</td>\n",
       "      <td>0.129716</td>\n",
       "      <td>0.000968</td>\n",
       "      <td>0.000968</td>\n",
       "      <td>0.000968</td>\n",
       "      <td>0.000968</td>\n",
       "    </tr>\n",
       "  </tbody>\n",
       "</table>\n",
       "<p>2 rows × 124 columns</p>\n",
       "</div>"
      ],
      "text/plain": [
       "         date data_type    y  y_3   cpi_1   cpi_2   cpi_3  br_1  br_2  br_3  \\\n",
       "0  2000-09-01     train  0.2  0.5  72.508  72.876  72.771   6.0   6.0   6.0   \n",
       "1  2000-12-01     train  0.1  0.2  73.050  73.083  72.526   6.0   6.0   6.0   \n",
       "\n",
       "   ...   br_pc_2  unemply_pc_2  awe_pc_2  GBP/US_pc_2  GBP/EU_pc_2  \\\n",
       "0  ...  0.102837      0.102837  0.102837     0.102837     0.102837   \n",
       "1  ...  0.129716      0.129716  0.129716     0.129716     0.129716   \n",
       "\n",
       "   oil_pl_pc_2  us_gdp_pc_1  eu_gdp_pc_1   sr_pc_1  pop_pc_1  \n",
       "0     0.102837     0.000850     0.000850  0.000850  0.000850  \n",
       "1     0.129716     0.000968     0.000968  0.000968  0.000968  \n",
       "\n",
       "[2 rows x 124 columns]"
      ]
     },
     "execution_count": 3,
     "metadata": {},
     "output_type": "execute_result"
    }
   ],
   "source": [
    "path = os.path.join(outputs_dir, 'df_tidy.csv')\n",
    "df = pd.read_csv(path)\n",
    "print(df.shape)\n",
    "print(df.columns)\n",
    "df.head(2)"
   ]
  },
  {
   "cell_type": "code",
   "execution_count": 4,
   "metadata": {},
   "outputs": [
    {
     "data": {
      "text/plain": [
       "{'date': 0,\n",
       " 'data_type': 0,\n",
       " 'y': 0,\n",
       " 'y_3': 0,\n",
       " 'cpi_1': 0,\n",
       " 'cpi_2': 0,\n",
       " 'cpi_3': 0,\n",
       " 'br_1': 0,\n",
       " 'br_2': 0,\n",
       " 'br_3': 0,\n",
       " 'unemply_1': 0,\n",
       " 'unemply_2': 0,\n",
       " 'unemply_3': 0,\n",
       " 'awe_1': 0,\n",
       " 'awe_2': 0,\n",
       " 'awe_3': 0,\n",
       " 'GBP/US_1': 0,\n",
       " 'GBP/US_2': 0,\n",
       " 'GBP/US_3': 0,\n",
       " 'GBP/EU_1': 0,\n",
       " 'GBP/EU_2': 0,\n",
       " 'GBP/EU_3': 0,\n",
       " 'oil_pl_1': 0,\n",
       " 'oil_pl_2': 0,\n",
       " 'oil_pl_3': 0,\n",
       " 'm4_1': 0,\n",
       " 'm4_2': 0,\n",
       " 'm4_lend_1': 0,\n",
       " 'm4_lend_2': 0,\n",
       " 'loans_1': 0,\n",
       " 'loans_2': 0,\n",
       " 'gscpi_1': 0,\n",
       " 'gscpi_2': 0,\n",
       " 'A_MoM_1': 0,\n",
       " 'A_MoM_2': 0,\n",
       " 'B_MoM_1': 0,\n",
       " 'B_MoM_2': 0,\n",
       " 'BE_MoM_1': 0,\n",
       " 'BE_MoM_2': 0,\n",
       " 'C_MoM_1': 0,\n",
       " 'C_MoM_2': 0,\n",
       " 'D_MoM_1': 0,\n",
       " 'D_MoM_2': 0,\n",
       " 'E_MoM_1': 0,\n",
       " 'E_MoM_2': 0,\n",
       " 'F_MoM_1': 0,\n",
       " 'F_MoM_2': 0,\n",
       " 'G_MoM_1': 0,\n",
       " 'G_MoM_2': 0,\n",
       " 'GT_MoM_1': 0,\n",
       " 'GT_MoM_2': 0,\n",
       " 'GVA_MoM_1': 0,\n",
       " 'GVA_MoM_2': 0,\n",
       " 'H_MoM_1': 0,\n",
       " 'H_MoM_2': 0,\n",
       " 'I_MoM_1': 0,\n",
       " 'I_MoM_2': 0,\n",
       " 'IOS_MoM_1': 0,\n",
       " 'IOS_MoM_2': 0,\n",
       " 'IOP_MoM_1': 0,\n",
       " 'IOP_MoM_2': 0,\n",
       " 'J_MoM_1': 0,\n",
       " 'J_MoM_2': 0,\n",
       " 'K_MoM_1': 0,\n",
       " 'K_MoM_2': 0,\n",
       " 'L_MoM_1': 0,\n",
       " 'L_MoM_2': 0,\n",
       " 'M_MoM_1': 0,\n",
       " 'M_MoM_2': 0,\n",
       " 'O_MoM_1': 0,\n",
       " 'O_MoM_2': 0,\n",
       " 'N_MoM_1': 0,\n",
       " 'N_MoM_2': 0,\n",
       " 'P_MoM_1': 0,\n",
       " 'P_MoM_2': 0,\n",
       " 'Q_MoM_1': 0,\n",
       " 'Q_MoM_2': 0,\n",
       " 'R_MoM_1': 0,\n",
       " 'R_MoM_2': 0,\n",
       " 'S_MoM_1': 0,\n",
       " 'S_MoM_2': 0,\n",
       " 'T_MoM_1': 0,\n",
       " 'T_MoM_2': 0,\n",
       " 'us_gdp_2': 0,\n",
       " 'us_gdp_5': 0,\n",
       " 'eu_gdp_2': 0,\n",
       " 'eu_gdp_5': 0,\n",
       " 'sr_2': 0,\n",
       " 'sr_5': 0,\n",
       " 'pop_2': 0,\n",
       " 'pop_5': 0,\n",
       " 'imp_2': 0,\n",
       " 'exp_2': 0,\n",
       " 'expp_2': 0,\n",
       " 'A_QoQ_2': 0,\n",
       " 'BE_QoQ_2': 0,\n",
       " 'C_QoQ_2': 0,\n",
       " 'F_QoQ_2': 0,\n",
       " 'GT_QoQ_2': 0,\n",
       " 'P3G_QoQ_2': 0,\n",
       " 'P3H_QoQ_2': 0,\n",
       " 'P3N_QoQ_2': 0,\n",
       " 'P51_QoQ_2': 0,\n",
       " 'P51S_QoQ_2': 0,\n",
       " 'P6_QoQ_2': 0,\n",
       " 'P7_QoQ_2': 0,\n",
       " 'cpi_pc_1': 0,\n",
       " 'br_pc_1': 0,\n",
       " 'unemply_pc_1': 0,\n",
       " 'awe_pc_1': 0,\n",
       " 'GBP/US_pc_1': 0,\n",
       " 'GBP/EU_pc_1': 0,\n",
       " 'oil_pl_pc_1': 0,\n",
       " 'cpi_pc_2': 0,\n",
       " 'br_pc_2': 0,\n",
       " 'unemply_pc_2': 0,\n",
       " 'awe_pc_2': 0,\n",
       " 'GBP/US_pc_2': 0,\n",
       " 'GBP/EU_pc_2': 0,\n",
       " 'oil_pl_pc_2': 0,\n",
       " 'us_gdp_pc_1': 0,\n",
       " 'eu_gdp_pc_1': 0,\n",
       " 'sr_pc_1': 0,\n",
       " 'pop_pc_1': 0}"
      ]
     },
     "execution_count": 4,
     "metadata": {},
     "output_type": "execute_result"
    }
   ],
   "source": [
    "dict(df.isna().sum())"
   ]
  },
  {
   "cell_type": "code",
   "execution_count": 5,
   "metadata": {},
   "outputs": [
    {
     "data": {
      "text/plain": [
       "['y_3',\n",
       " 'cpi_1',\n",
       " 'cpi_2',\n",
       " 'cpi_3',\n",
       " 'br_1',\n",
       " 'br_2',\n",
       " 'br_3',\n",
       " 'unemply_1',\n",
       " 'unemply_2',\n",
       " 'unemply_3',\n",
       " 'awe_1',\n",
       " 'awe_2',\n",
       " 'awe_3',\n",
       " 'GBP/US_1',\n",
       " 'GBP/US_2',\n",
       " 'GBP/US_3',\n",
       " 'GBP/EU_1',\n",
       " 'GBP/EU_2',\n",
       " 'GBP/EU_3',\n",
       " 'oil_pl_1',\n",
       " 'oil_pl_2',\n",
       " 'oil_pl_3',\n",
       " 'm4_1',\n",
       " 'm4_2',\n",
       " 'm4_lend_1',\n",
       " 'm4_lend_2',\n",
       " 'loans_1',\n",
       " 'loans_2',\n",
       " 'gscpi_1',\n",
       " 'gscpi_2',\n",
       " 'A_MoM_1',\n",
       " 'A_MoM_2',\n",
       " 'B_MoM_1',\n",
       " 'B_MoM_2',\n",
       " 'BE_MoM_1',\n",
       " 'BE_MoM_2',\n",
       " 'C_MoM_1',\n",
       " 'C_MoM_2',\n",
       " 'D_MoM_1',\n",
       " 'D_MoM_2',\n",
       " 'E_MoM_1',\n",
       " 'E_MoM_2',\n",
       " 'F_MoM_1',\n",
       " 'F_MoM_2',\n",
       " 'G_MoM_1',\n",
       " 'G_MoM_2',\n",
       " 'GT_MoM_1',\n",
       " 'GT_MoM_2',\n",
       " 'GVA_MoM_1',\n",
       " 'GVA_MoM_2',\n",
       " 'H_MoM_1',\n",
       " 'H_MoM_2',\n",
       " 'I_MoM_1',\n",
       " 'I_MoM_2',\n",
       " 'IOS_MoM_1',\n",
       " 'IOS_MoM_2',\n",
       " 'IOP_MoM_1',\n",
       " 'IOP_MoM_2',\n",
       " 'J_MoM_1',\n",
       " 'J_MoM_2',\n",
       " 'K_MoM_1',\n",
       " 'K_MoM_2',\n",
       " 'L_MoM_1',\n",
       " 'L_MoM_2',\n",
       " 'M_MoM_1',\n",
       " 'M_MoM_2',\n",
       " 'O_MoM_1',\n",
       " 'O_MoM_2',\n",
       " 'N_MoM_1',\n",
       " 'N_MoM_2',\n",
       " 'P_MoM_1',\n",
       " 'P_MoM_2',\n",
       " 'Q_MoM_1',\n",
       " 'Q_MoM_2',\n",
       " 'R_MoM_1',\n",
       " 'R_MoM_2',\n",
       " 'S_MoM_1',\n",
       " 'S_MoM_2',\n",
       " 'T_MoM_1',\n",
       " 'T_MoM_2',\n",
       " 'us_gdp_2',\n",
       " 'us_gdp_5',\n",
       " 'eu_gdp_2',\n",
       " 'eu_gdp_5',\n",
       " 'sr_2',\n",
       " 'sr_5',\n",
       " 'pop_2',\n",
       " 'pop_5',\n",
       " 'imp_2',\n",
       " 'exp_2',\n",
       " 'expp_2',\n",
       " 'A_QoQ_2',\n",
       " 'BE_QoQ_2',\n",
       " 'C_QoQ_2',\n",
       " 'F_QoQ_2',\n",
       " 'GT_QoQ_2',\n",
       " 'P3G_QoQ_2',\n",
       " 'P3H_QoQ_2',\n",
       " 'P3N_QoQ_2',\n",
       " 'P51_QoQ_2',\n",
       " 'P51S_QoQ_2',\n",
       " 'P6_QoQ_2',\n",
       " 'P7_QoQ_2',\n",
       " 'cpi_pc_1',\n",
       " 'br_pc_1',\n",
       " 'unemply_pc_1',\n",
       " 'awe_pc_1',\n",
       " 'GBP/US_pc_1',\n",
       " 'GBP/EU_pc_1',\n",
       " 'oil_pl_pc_1',\n",
       " 'cpi_pc_2',\n",
       " 'br_pc_2',\n",
       " 'unemply_pc_2',\n",
       " 'awe_pc_2',\n",
       " 'GBP/US_pc_2',\n",
       " 'GBP/EU_pc_2',\n",
       " 'oil_pl_pc_2',\n",
       " 'us_gdp_pc_1',\n",
       " 'eu_gdp_pc_1',\n",
       " 'sr_pc_1',\n",
       " 'pop_pc_1']"
      ]
     },
     "execution_count": 5,
     "metadata": {},
     "output_type": "execute_result"
    }
   ],
   "source": [
    "X_colnames = [col for col in df.columns if col not in ['y', 'date', 'data_type']]\n",
    "X_colnames"
   ]
  },
  {
   "cell_type": "code",
   "execution_count": 6,
   "metadata": {},
   "outputs": [],
   "source": [
    "import feature_selection\n",
    "\n",
    "train_data_mask = df['data_type']=='train'\n",
    "selected_vars = feature_selection.fit_lasso_time_series(df[train_data_mask], 'y', X_colnames)\n"
   ]
  },
  {
   "cell_type": "code",
   "execution_count": 7,
   "metadata": {},
   "outputs": [
    {
     "name": "stdout",
     "output_type": "stream",
     "text": [
      "45\n"
     ]
    },
    {
     "data": {
      "text/plain": [
       "['y_3',\n",
       " 'GBP/US_1',\n",
       " 'gscpi_1',\n",
       " 'B_MoM_1',\n",
       " 'D_MoM_1',\n",
       " 'D_MoM_2',\n",
       " 'G_MoM_1',\n",
       " 'GVA_MoM_1',\n",
       " 'GVA_MoM_2',\n",
       " 'H_MoM_2',\n",
       " 'I_MoM_1',\n",
       " 'I_MoM_2',\n",
       " 'IOS_MoM_2',\n",
       " 'J_MoM_2',\n",
       " 'K_MoM_2',\n",
       " 'L_MoM_1',\n",
       " 'M_MoM_1',\n",
       " 'N_MoM_1',\n",
       " 'N_MoM_2',\n",
       " 'P_MoM_1',\n",
       " 'P_MoM_2',\n",
       " 'Q_MoM_1',\n",
       " 'R_MoM_1',\n",
       " 'R_MoM_2',\n",
       " 'S_MoM_1',\n",
       " 'T_MoM_2',\n",
       " 'pop_2',\n",
       " 'A_QoQ_2',\n",
       " 'F_QoQ_2',\n",
       " 'GT_QoQ_2',\n",
       " 'P3G_QoQ_2',\n",
       " 'P3H_QoQ_2',\n",
       " 'P3N_QoQ_2',\n",
       " 'P51_QoQ_2',\n",
       " 'P51S_QoQ_2',\n",
       " 'P6_QoQ_2',\n",
       " 'cpi_pc_1',\n",
       " 'br_pc_1',\n",
       " 'cpi_pc_2',\n",
       " 'br_pc_2',\n",
       " 'unemply_pc_2',\n",
       " 'us_gdp_pc_1',\n",
       " 'eu_gdp_pc_1',\n",
       " 'sr_pc_1',\n",
       " 'pop_pc_1']"
      ]
     },
     "execution_count": 7,
     "metadata": {},
     "output_type": "execute_result"
    }
   ],
   "source": [
    "print(len(selected_vars))\n",
    "selected_vars"
   ]
  },
  {
   "cell_type": "code",
   "execution_count": 8,
   "metadata": {},
   "outputs": [
    {
     "name": "stderr",
     "output_type": "stream",
     "text": [
      "c:\\Python39\\lib\\site-packages\\sklearn\\base.py:458: UserWarning: X has feature names, but StandardScaler was fitted without feature names\n",
      "  warnings.warn(\n"
     ]
    }
   ],
   "source": [
    "# Divide data into training and testing sets\n",
    "train = df[train_data_mask]\n",
    "test = df[~train_data_mask]\n",
    "\n",
    "# Scale features\n",
    "scaler = StandardScaler()\n",
    "X_train = scaler.fit_transform(train[selected_vars])\n",
    "X_test = scaler.transform(test[selected_vars])\n",
    "\n",
    "X_train_scaled = scaler.fit_transform(X_train)\n",
    "X_test_scaled = scaler.transform(test[selected_vars])\n",
    "\n",
    "# Get y_train and y_test\n",
    "y_train = train['y']\n",
    "y_test = test['y']"
   ]
  },
  {
   "cell_type": "code",
   "execution_count": 9,
   "metadata": {},
   "outputs": [],
   "source": [
    "# Define the model\n",
    "\n",
    "# model = XGBRegressor(random_state=42)\n",
    "model = RandomForestRegressor(max_depth=2, random_state=0)\n",
    "# model = SVR()\n",
    "# model = LinearRegression()"
   ]
  },
  {
   "cell_type": "code",
   "execution_count": 10,
   "metadata": {},
   "outputs": [
    {
     "data": {
      "text/html": [
       "<style>#sk-container-id-1 {color: black;}#sk-container-id-1 pre{padding: 0;}#sk-container-id-1 div.sk-toggleable {background-color: white;}#sk-container-id-1 label.sk-toggleable__label {cursor: pointer;display: block;width: 100%;margin-bottom: 0;padding: 0.3em;box-sizing: border-box;text-align: center;}#sk-container-id-1 label.sk-toggleable__label-arrow:before {content: \"▸\";float: left;margin-right: 0.25em;color: #696969;}#sk-container-id-1 label.sk-toggleable__label-arrow:hover:before {color: black;}#sk-container-id-1 div.sk-estimator:hover label.sk-toggleable__label-arrow:before {color: black;}#sk-container-id-1 div.sk-toggleable__content {max-height: 0;max-width: 0;overflow: hidden;text-align: left;background-color: #f0f8ff;}#sk-container-id-1 div.sk-toggleable__content pre {margin: 0.2em;color: black;border-radius: 0.25em;background-color: #f0f8ff;}#sk-container-id-1 input.sk-toggleable__control:checked~div.sk-toggleable__content {max-height: 200px;max-width: 100%;overflow: auto;}#sk-container-id-1 input.sk-toggleable__control:checked~label.sk-toggleable__label-arrow:before {content: \"▾\";}#sk-container-id-1 div.sk-estimator input.sk-toggleable__control:checked~label.sk-toggleable__label {background-color: #d4ebff;}#sk-container-id-1 div.sk-label input.sk-toggleable__control:checked~label.sk-toggleable__label {background-color: #d4ebff;}#sk-container-id-1 input.sk-hidden--visually {border: 0;clip: rect(1px 1px 1px 1px);clip: rect(1px, 1px, 1px, 1px);height: 1px;margin: -1px;overflow: hidden;padding: 0;position: absolute;width: 1px;}#sk-container-id-1 div.sk-estimator {font-family: monospace;background-color: #f0f8ff;border: 1px dotted black;border-radius: 0.25em;box-sizing: border-box;margin-bottom: 0.5em;}#sk-container-id-1 div.sk-estimator:hover {background-color: #d4ebff;}#sk-container-id-1 div.sk-parallel-item::after {content: \"\";width: 100%;border-bottom: 1px solid gray;flex-grow: 1;}#sk-container-id-1 div.sk-label:hover label.sk-toggleable__label {background-color: #d4ebff;}#sk-container-id-1 div.sk-serial::before {content: \"\";position: absolute;border-left: 1px solid gray;box-sizing: border-box;top: 0;bottom: 0;left: 50%;z-index: 0;}#sk-container-id-1 div.sk-serial {display: flex;flex-direction: column;align-items: center;background-color: white;padding-right: 0.2em;padding-left: 0.2em;position: relative;}#sk-container-id-1 div.sk-item {position: relative;z-index: 1;}#sk-container-id-1 div.sk-parallel {display: flex;align-items: stretch;justify-content: center;background-color: white;position: relative;}#sk-container-id-1 div.sk-item::before, #sk-container-id-1 div.sk-parallel-item::before {content: \"\";position: absolute;border-left: 1px solid gray;box-sizing: border-box;top: 0;bottom: 0;left: 50%;z-index: -1;}#sk-container-id-1 div.sk-parallel-item {display: flex;flex-direction: column;z-index: 1;position: relative;background-color: white;}#sk-container-id-1 div.sk-parallel-item:first-child::after {align-self: flex-end;width: 50%;}#sk-container-id-1 div.sk-parallel-item:last-child::after {align-self: flex-start;width: 50%;}#sk-container-id-1 div.sk-parallel-item:only-child::after {width: 0;}#sk-container-id-1 div.sk-dashed-wrapped {border: 1px dashed gray;margin: 0 0.4em 0.5em 0.4em;box-sizing: border-box;padding-bottom: 0.4em;background-color: white;}#sk-container-id-1 div.sk-label label {font-family: monospace;font-weight: bold;display: inline-block;line-height: 1.2em;}#sk-container-id-1 div.sk-label-container {text-align: center;}#sk-container-id-1 div.sk-container {/* jupyter's `normalize.less` sets `[hidden] { display: none; }` but bootstrap.min.css set `[hidden] { display: none !important; }` so we also need the `!important` here to be able to override the default hidden behavior on the sphinx rendered scikit-learn.org. See: https://github.com/scikit-learn/scikit-learn/issues/21755 */display: inline-block !important;position: relative;}#sk-container-id-1 div.sk-text-repr-fallback {display: none;}</style><div id=\"sk-container-id-1\" class=\"sk-top-container\"><div class=\"sk-text-repr-fallback\"><pre>RandomForestRegressor(max_depth=2, random_state=0)</pre><b>In a Jupyter environment, please rerun this cell to show the HTML representation or trust the notebook. <br />On GitHub, the HTML representation is unable to render, please try loading this page with nbviewer.org.</b></div><div class=\"sk-container\" hidden><div class=\"sk-item\"><div class=\"sk-estimator sk-toggleable\"><input class=\"sk-toggleable__control sk-hidden--visually\" id=\"sk-estimator-id-1\" type=\"checkbox\" checked><label for=\"sk-estimator-id-1\" class=\"sk-toggleable__label sk-toggleable__label-arrow\">RandomForestRegressor</label><div class=\"sk-toggleable__content\"><pre>RandomForestRegressor(max_depth=2, random_state=0)</pre></div></div></div></div></div>"
      ],
      "text/plain": [
       "RandomForestRegressor(max_depth=2, random_state=0)"
      ]
     },
     "execution_count": 10,
     "metadata": {},
     "output_type": "execute_result"
    }
   ],
   "source": [
    "# Fit the model\n",
    "model.fit(X_train_scaled, y_train)"
   ]
  },
  {
   "cell_type": "code",
   "execution_count": 11,
   "metadata": {},
   "outputs": [
    {
     "data": {
      "text/plain": [
       "array([ 0.27217233,  0.00653826,  0.95689629, -0.21208928,  1.08996923,\n",
       "        0.29868534,  0.21300124])"
      ]
     },
     "execution_count": 11,
     "metadata": {},
     "output_type": "execute_result"
    }
   ],
   "source": [
    "# Make predictions\n",
    "y_pred = model.predict(X_test_scaled)\n",
    "y_pred"
   ]
  },
  {
   "cell_type": "code",
   "execution_count": 12,
   "metadata": {},
   "outputs": [
    {
     "data": {
      "text/plain": [
       "array([ 0.27217233,  0.00653826,  0.95689629, -0.21208928,  1.08996923,\n",
       "        0.29868534,  0.21300124])"
      ]
     },
     "execution_count": 12,
     "metadata": {},
     "output_type": "execute_result"
    }
   ],
   "source": [
    "y_pred"
   ]
  },
  {
   "cell_type": "code",
   "execution_count": 13,
   "metadata": {},
   "outputs": [
    {
     "data": {
      "text/plain": [
       "90    0.0\n",
       "91    0.1\n",
       "92   -0.1\n",
       "93   -0.6\n",
       "94    0.4\n",
       "95    0.3\n",
       "96   -0.1\n",
       "Name: y, dtype: float64"
      ]
     },
     "execution_count": 13,
     "metadata": {},
     "output_type": "execute_result"
    }
   ],
   "source": [
    "y_test"
   ]
  },
  {
   "cell_type": "code",
   "execution_count": 16,
   "metadata": {},
   "outputs": [
    {
     "data": {
      "image/png": "[encoded data removed]",
      "text/plain": [
       "<Figure size 640x480 with 1 Axes>"
      ]
     },
     "metadata": {},
     "output_type": "display_data"
    }
   ],
   "source": [
    "# Plot y_test and y_pred against date\n",
    "import matplotlib.pyplot as plt\n",
    "plt.plot(np.array(y_test),  label='y_test')\n",
    "plt.plot(y_pred, label='y_pred')\n",
    "plt.legend()\n",
    "plt.show()"
   ]
  },
  {
   "cell_type": "code",
   "execution_count": 17,
   "metadata": {},
   "outputs": [
    {
     "name": "stdout",
     "output_type": "stream",
     "text": [
      "MAE: 0.4021037453841792\n",
      "RMSE: 0.5243153935122155\n"
     ]
    }
   ],
   "source": [
    "# Evaluate the model\n",
    "from sklearn.metrics import mean_absolute_error\n",
    "mae = mean_absolute_error(y_test, y_pred)\n",
    "print('MAE:', mae)\n",
    "\n",
    "# RMSE\n",
    "from sklearn.metrics import mean_squared_error\n",
    "import numpy as np\n",
    "rmse = np.sqrt(mean_squared_error(y_test, y_pred))\n",
    "print('RMSE:', rmse)"
   ]
  },
  {
   "cell_type": "code",
   "execution_count": 27,
   "metadata": {},
   "outputs": [
    {
     "data": {
      "image/png": "[encoded data removed]",
      "text/plain": [
       "<Figure size 800x950 with 1 Axes>"
      ]
     },
     "metadata": {},
     "output_type": "display_data"
    }
   ],
   "source": [
    "# Convert the scaled training data back to a DataFrame with the correct column names.\n",
    "X_train_scaled_df = pd.DataFrame(X_train_scaled, columns=selected_vars)\n",
    "\n",
    "# Create the SHAP explainer using your model.\n",
    "explainer = shap.TreeExplainer(model)\n",
    "\n",
    "# Calculate SHAP values on the scaled training data.\n",
    "shap_values = explainer(X_train_scaled)\n",
    "\n",
    "# Use the DataFrame (with feature names) for the summary plot.\n",
    "shap.summary_plot(shap_values, X_train_scaled_df, plot_type=\"bar\")\n",
    "plt.show()\n"
   ]
  },
  {
   "cell_type": "code",
   "execution_count": null,
   "metadata": {},
   "outputs": [
    {
     "ename": "AttributeError",
     "evalue": "'RandomForestRegressor' object has no attribute 'feature_names_in_'",
     "output_type": "error",
     "traceback": [
      "\u001b[1;31m---------------------------------------------------------------------------\u001b[0m",
      "\u001b[1;31mAttributeError\u001b[0m                            Traceback (most recent call last)",
      "Cell \u001b[1;32mIn[26], line 1\u001b[0m\n\u001b[1;32m----> 1\u001b[0m \u001b[43mmodel\u001b[49m\u001b[38;5;241;43m.\u001b[39;49m\u001b[43mfeature_names_in_\u001b[49m\n",
      "\u001b[1;31mAttributeError\u001b[0m: 'RandomForestRegressor' object has no attribute 'feature_names_in_'"
     ]
    }
   ],
   "source": [
    "model."
   ]
  }
 ],
 "metadata": {
  "kernelspec": {
   "display_name": "Python 3",
   "language": "python",
   "name": "python3"
  },
  "language_info": {
   "codemirror_mode": {
    "name": "ipython",
    "version": 3
   },
   "file_extension": ".py",
   "mimetype": "text/x-python",
   "name": "python",
   "nbconvert_exporter": "python",
   "pygments_lexer": "ipython3",
   "version": "3.9.6"
  }
 },
 "nbformat": 4,
 "nbformat_minor": 2
}
